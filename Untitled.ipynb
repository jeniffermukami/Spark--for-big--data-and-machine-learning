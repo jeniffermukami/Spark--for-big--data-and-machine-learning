{
 "cells": [
  {
   "cell_type": "code",
   "execution_count": 9,
   "id": "8236da96",
   "metadata": {},
   "outputs": [],
   "source": [
    "import random\n",
    "aList = [20, 40, 80, 100, 120]\n",
    "x=[i+1 for i in aList]"
   ]
  },
  {
   "cell_type": "code",
   "execution_count": 10,
   "id": "4b0339f3",
   "metadata": {},
   "outputs": [
    {
     "data": {
      "text/plain": [
       "40"
      ]
     },
     "execution_count": 10,
     "metadata": {},
     "output_type": "execute_result"
    }
   ],
   "source": [
    "aws emr create-cluster --name spark-cluster \\\n",
    " --use-default-roles --release-label emr-5.28.0  \\\n",
    "--instance-count 3 --applications Name=Spark Name=Zeppelin  \\\n",
    "--bootstrap-actions Path=\"s3://bootstrap.sh\" \\\n",
    "--ec2-attributes KeyName=<Key-pair-file-name>, SubnetId=<subnet-Id> \\\n",
    "--instance-type m5.xlarge --log-uri s3:///emrlogs/\n"
   ]
  }
 ],
 "metadata": {
  "kernelspec": {
   "display_name": "Python 3 (ipykernel)",
   "language": "python",
   "name": "python3"
  },
  "language_info": {
   "codemirror_mode": {
    "name": "ipython",
    "version": 3
   },
   "file_extension": ".py",
   "mimetype": "text/x-python",
   "name": "python",
   "nbconvert_exporter": "python",
   "pygments_lexer": "ipython3",
   "version": "3.9.12"
  }
 },
 "nbformat": 4,
 "nbformat_minor": 5
}

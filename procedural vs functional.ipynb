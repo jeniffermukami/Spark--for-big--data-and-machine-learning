{
 "cells": [
  {
   "cell_type": "markdown",
   "id": "fe2168a0",
   "metadata": {},
   "source": [
    "#### Concrete example of a potential issue with procedural programming in python.\n",
    "\n",
    "This code conts up the number of times a specific song was played,assuming the log of songs was converted to a python list.\n"
   ]
  },
  {
   "cell_type": "code",
   "execution_count": 1,
   "id": "1acfa502",
   "metadata": {},
   "outputs": [],
   "source": [
    "log_of_songs = [\n",
    "        \"Despacito\",\n",
    "        \"Nice for what\",\n",
    "        \"No tears left to cry\",\n",
    "        \"Despacito\",\n",
    "        \"Havana\",\n",
    "        \"In my feelings\",\n",
    "        \"Nice for what\",\n",
    "        \"Despacito\",\n",
    "        \"All the stars\"\n",
    "]"
   ]
  },
  {
   "cell_type": "code",
   "execution_count": 2,
   "id": "182d35e5",
   "metadata": {},
   "outputs": [],
   "source": [
    "play_count = 0"
   ]
  },
  {
   "cell_type": "code",
   "execution_count": 3,
   "id": "5ab1c461",
   "metadata": {},
   "outputs": [],
   "source": [
    "#iterate through all the songs in a list . If the song title is despacito we increase play_count by one\n",
    "def count_plays(song_title):\n",
    "    global play_count\n",
    "    for song in log_of_songs:\n",
    "        if song == song_title:\n",
    "            play_count = play_count + 1\n",
    "    return play_count"
   ]
  },
  {
   "cell_type": "code",
   "execution_count": 4,
   "id": "3f83e0ab",
   "metadata": {},
   "outputs": [
    {
     "data": {
      "text/plain": [
       "3"
      ]
     },
     "execution_count": 4,
     "metadata": {},
     "output_type": "execute_result"
    }
   ],
   "source": [
    "count_plays(\"Despacito\")"
   ]
  },
  {
   "cell_type": "markdown",
   "id": "7676c31d",
   "metadata": {},
   "source": [
    "when we run this procedure in the final statement the code that runs actually changes the variable play_count,as a result, running the same code again , with the exact same input of despacito gives a different result each time.\n",
    "\n",
    "when You have dozens of machines running code in parallel,and sometimes you needto restart a calculation if one of the machies has a temporary issue.Theconfusion come from aslopy language.In python,we casually refer to anything after a def as a function.\n",
    "but technically these are often methods or procedures,not functions.\n",
    "\n",
    "       The functions we know from math are pure functions."
   ]
  },
  {
   "cell_type": "code",
   "execution_count": 5,
   "id": "673e6cbc",
   "metadata": {},
   "outputs": [
    {
     "data": {
      "text/plain": [
       "6"
      ]
     },
     "execution_count": 5,
     "metadata": {},
     "output_type": "execute_result"
    }
   ],
   "source": [
    "count_plays(\"Despacito\")"
   ]
  },
  {
   "cell_type": "markdown",
   "id": "3b7c3a88",
   "metadata": {},
   "source": [
    "#### How to Solve the Issue\n",
    "\n",
    "How might you solve this issue? You could get rid of the global variable and instead use play_count as an input to the function:\n",
    "\n",
    "```python\n",
    "def count_plays(song_title, play_count):\n",
    "    for song in log_of_songs:\n",
    "        if song == song_title:\n",
    "            play_count = play_count + 1\n",
    "    return play_count\n",
    "\n",
    "```\n",
    "\n",
    "How would this work with parallel programming? Spark splits up data onto multiple machines. If your songs list were split onto two machines, Machine A would first need to finish counting, and then return its own result to Machine B. And then Machine B could use the output from Machine A and add to the count.\n",
    "However, that isn't parallel computing. Machine B would have to wait until Machine A finishes. Spark solves this issue with a functional programming paradigm.\n",
    "\n",
    "\n",
    "In Spark, if your data is split onto two different machines, machine A will run a function to count how many times 'Despacito' appears on machine A. Machine B will simultaneously run a function to count how many times 'Despacito' appears on machine B. After they finish counting individually, they'll combine their results together. You'll see how this works in the next parts of the lesson.\n",
    "​"
   ]
  }
 ],
 "metadata": {
  "kernelspec": {
   "display_name": "Python 3 (ipykernel)",
   "language": "python",
   "name": "python3"
  },
  "language_info": {
   "codemirror_mode": {
    "name": "ipython",
    "version": 3
   },
   "file_extension": ".py",
   "mimetype": "text/x-python",
   "name": "python",
   "nbconvert_exporter": "python",
   "pygments_lexer": "ipython3",
   "version": "3.9.12"
  }
 },
 "nbformat": 4,
 "nbformat_minor": 5
}
